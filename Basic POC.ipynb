{
 "cells": [
  {
   "cell_type": "markdown",
   "metadata": {},
   "source": [
    "***Working on PDF File to Extract the Text***"
   ]
  },
  {
   "cell_type": "code",
   "execution_count": 1,
   "metadata": {},
   "outputs": [
    {
     "name": "stdout",
     "output_type": "stream",
     "text": [
      "Requirement already satisfied: PyPDF2 in c:\\users\\dileep\\anaconda3\\lib\\site-packages (1.26.0)\n"
     ]
    }
   ],
   "source": [
    "### Install PyPDF2 tool ----> To extract text from pdf\n",
    "\n",
    "!pip install PyPDF2\n"
   ]
  },
  {
   "cell_type": "code",
   "execution_count": 2,
   "metadata": {},
   "outputs": [
    {
     "name": "stdout",
     "output_type": "stream",
     "text": [
      "Requirement already satisfied: PyPDF4 in c:\\users\\dileep\\anaconda3\\lib\\site-packages (1.27.0)\n"
     ]
    }
   ],
   "source": [
    "!pip install PyPDF4"
   ]
  },
  {
   "cell_type": "code",
   "execution_count": 3,
   "metadata": {},
   "outputs": [],
   "source": [
    "### importing the library\n",
    "\n",
    "#import PyPDF2 as pdf\n",
    "import PyPDF4 as pdf"
   ]
  },
  {
   "cell_type": "code",
   "execution_count": 4,
   "metadata": {},
   "outputs": [],
   "source": [
    "### to open the file\n",
    "\n",
    "file = open('PythonNotes.pdf','rb')"
   ]
  },
  {
   "cell_type": "code",
   "execution_count": 5,
   "metadata": {},
   "outputs": [
    {
     "data": {
      "text/plain": [
       "<_io.BufferedReader name='PythonNotes.pdf'>"
      ]
     },
     "execution_count": 5,
     "metadata": {},
     "output_type": "execute_result"
    }
   ],
   "source": [
    "file"
   ]
  },
  {
   "cell_type": "code",
   "execution_count": 6,
   "metadata": {},
   "outputs": [],
   "source": [
    "### to read the file ---> it reads the data of old pdf file and decrese of chances to loose original data\n",
    "\n",
    "pdf_reader = pdf.PdfFileReader(file)"
   ]
  },
  {
   "cell_type": "code",
   "execution_count": 7,
   "metadata": {},
   "outputs": [
    {
     "data": {
      "text/plain": [
       "<PyPDF4.pdf.PdfFileReader at 0x2b1018740b8>"
      ]
     },
     "execution_count": 7,
     "metadata": {},
     "output_type": "execute_result"
    }
   ],
   "source": [
    "pdf_reader"
   ]
  },
  {
   "cell_type": "code",
   "execution_count": 8,
   "metadata": {},
   "outputs": [
    {
     "name": "stdout",
     "output_type": "stream",
     "text": [
      "Help on PdfFileReader in module PyPDF4.pdf object:\n",
      "\n",
      "class PdfFileReader(builtins.object)\n",
      " |  PdfFileReader(stream, strict=True, warndest=None, overwriteWarnings=True)\n",
      " |  \n",
      " |  Initializes a PdfFileReader object.  This operation can take some time, as\n",
      " |  the PDF stream's cross-reference tables are read into memory.\n",
      " |  \n",
      " |  :param stream: A File object or an object that supports the standard read\n",
      " |      and seek methods similar to a File object. Could also be a\n",
      " |      string representing a path to a PDF file.\n",
      " |  :param bool strict: Determines whether user should be warned of all\n",
      " |      problems and also causes some correctable problems to be fatal.\n",
      " |      Defaults to ``True``.\n",
      " |  :param warndest: Destination for logging warnings (defaults to\n",
      " |      ``sys.stderr``).\n",
      " |  :param bool overwriteWarnings: Determines whether to override Python's\n",
      " |      ``warnings.py`` module with a custom implementation (defaults to\n",
      " |      ``True``).\n",
      " |  \n",
      " |  Methods defined here:\n",
      " |  \n",
      " |  __init__(self, stream, strict=True, warndest=None, overwriteWarnings=True)\n",
      " |      Initialize self.  See help(type(self)) for accurate signature.\n",
      " |  \n",
      " |  cacheGetIndirectObject(self, generation, idnum)\n",
      " |  \n",
      " |  cacheIndirectObject(self, generation, idnum, obj)\n",
      " |  \n",
      " |  decrypt(self, password)\n",
      " |      When using an encrypted / secured PDF file with the PDF Standard\n",
      " |      encryption handler, this function will allow the file to be decrypted.\n",
      " |      It checks the given password against the document's user password and\n",
      " |      owner password, and then stores the resulting decryption key if either\n",
      " |      password is correct.\n",
      " |      \n",
      " |      It does not matter which password was matched.  Both passwords provide\n",
      " |      the correct decryption key that will allow the document to be used with\n",
      " |      this library.\n",
      " |      \n",
      " |      :param str password: The password to match.\n",
      " |      :return: ``0`` if the password failed, ``1`` if the password matched the user\n",
      " |          password, and ``2`` if the password matched the owner password.\n",
      " |      :rtype: int\n",
      " |      :raises NotImplementedError: if document uses an unsupported encryption\n",
      " |          method.\n",
      " |  \n",
      " |  getDestinationPageNumber(self, destination)\n",
      " |      Retrieve page number of a given Destination object\n",
      " |      \n",
      " |      :param Destination destination: The destination to get page number.\n",
      " |           Should be an instance of\n",
      " |           :class:`Destination<PyPDF4.pdf.Destination>`\n",
      " |      :return: the page number or -1 if page not found\n",
      " |      :rtype: int\n",
      " |  \n",
      " |  getDocumentInfo(self)\n",
      " |      Retrieves the PDF file's document information dictionary, if it exists.\n",
      " |      Note that some PDF files use metadata streams instead of docinfo\n",
      " |      dictionaries, and these metadata streams will not be accessed by this\n",
      " |      function.\n",
      " |      \n",
      " |      :return: the document information of this PDF file\n",
      " |      :rtype: :class:`DocumentInformation<pdf.DocumentInformation>` or ``None`` if none exists.\n",
      " |  \n",
      " |  getFields(self, tree=None, retval=None, fileobj=None)\n",
      " |      Extracts field data if this PDF contains interactive form fields.\n",
      " |      The *tree* and *retval* parameters are for recursive use.\n",
      " |      \n",
      " |      :param fileobj: A file object (usually a text file) to write\n",
      " |          a report to on all interactive form fields found.\n",
      " |      :return: A dictionary where each key is a field name, and each\n",
      " |          value is a :class:`Field<PyPDF4.generic.Field>` object. By\n",
      " |          default, the mapping name is used for keys.\n",
      " |      :rtype: dict, or ``None`` if form data could not be located.\n",
      " |  \n",
      " |  getFormTextFields(self)\n",
      " |      Retrieves form fields from the document with textual data (inputs, dropdowns)\n",
      " |  \n",
      " |  getIsEncrypted(self)\n",
      " |  \n",
      " |  getNamedDestinations(self, tree=None, retval=None)\n",
      " |      Retrieves the named destinations present in the document.\n",
      " |      \n",
      " |      :return: a dictionary which maps names to\n",
      " |          :class:`Destinations<PyPDF4.generic.Destination>`.\n",
      " |      :rtype: dict\n",
      " |  \n",
      " |  getNumPages(self)\n",
      " |      Calculates the number of pages in this PDF file.\n",
      " |      \n",
      " |      :return: number of pages\n",
      " |      :rtype: int\n",
      " |      :raises PdfReadError: if file is encrypted and restrictions prevent\n",
      " |          this action.\n",
      " |  \n",
      " |  getObject(self, indirectReference)\n",
      " |  \n",
      " |  getOutlines(self, node=None, outlines=None)\n",
      " |      Retrieves the document outline present in the document.\n",
      " |      \n",
      " |      :return: a nested list of :class:`Destinations<PyPDF4.generic.Destination>`.\n",
      " |  \n",
      " |  getPage(self, pageNumber)\n",
      " |      Retrieves a page by number from this PDF file.\n",
      " |      \n",
      " |      :param int pageNumber: The page number to retrieve\n",
      " |          (pages begin at zero)\n",
      " |      :return: a :class:`PageObject<pdf.PageObject>` instance.\n",
      " |      :rtype: :class:`PageObject<pdf.PageObject>`\n",
      " |  \n",
      " |  getPageLayout(self)\n",
      " |      Get the page layout.\n",
      " |      See :meth:`setPageLayout()<PdfFileWriter.setPageLayout>`\n",
      " |      for a description of valid layouts.\n",
      " |      \n",
      " |      :return: Page layout currently being used.\n",
      " |      :rtype: ``str``, ``None`` if not specified\n",
      " |  \n",
      " |  getPageMode(self)\n",
      " |      Get the page mode.\n",
      " |      See :meth:`setPageMode()<PdfFileWriter.setPageMode>`\n",
      " |      for a description of valid modes.\n",
      " |      \n",
      " |      :return: Page mode currently being used.\n",
      " |      :rtype: ``str``, ``None`` if not specified\n",
      " |  \n",
      " |  getPageNumber(self, page)\n",
      " |      Retrieve page number of a given PageObject\n",
      " |      \n",
      " |      :param PageObject page: The page to get page number. Should be\n",
      " |          an instance of :class:`PageObject<PyPDF4.pdf.PageObject>`\n",
      " |      :return: the page number or -1 if page not found\n",
      " |      :rtype: int\n",
      " |  \n",
      " |  getXmpMetadata(self)\n",
      " |      Retrieves XMP (Extensible Metadata Platform) data from the PDF document\n",
      " |      root.\n",
      " |      \n",
      " |      :return: a :class:`XmpInformation<xmp.XmpInformation>`\n",
      " |          instance that can be used to access XMP metadata from the document.\n",
      " |      :rtype: :class:`XmpInformation<xmp.XmpInformation>` or\n",
      " |          ``None`` if no metadata was found on the document root.\n",
      " |  \n",
      " |  read(self, stream)\n",
      " |  \n",
      " |  readNextEndLine(self, stream)\n",
      " |  \n",
      " |  readObjectHeader(self, stream)\n",
      " |  \n",
      " |  ----------------------------------------------------------------------\n",
      " |  Data descriptors defined here:\n",
      " |  \n",
      " |  __dict__\n",
      " |      dictionary for instance variables (if defined)\n",
      " |  \n",
      " |  __weakref__\n",
      " |      list of weak references to the object (if defined)\n",
      " |  \n",
      " |  documentInfo\n",
      " |  \n",
      " |  isEncrypted\n",
      " |  \n",
      " |  namedDestinations\n",
      " |  \n",
      " |  numPages\n",
      " |  \n",
      " |  outlines\n",
      " |  \n",
      " |  pageLayout\n",
      " |      Get the page layout.\n",
      " |      See :meth:`setPageLayout()<PdfFileWriter.setPageLayout>`\n",
      " |      for a description of valid layouts.\n",
      " |      \n",
      " |      :return: Page layout currently being used.\n",
      " |      :rtype: ``str``, ``None`` if not specified\n",
      " |  \n",
      " |  pageMode\n",
      " |      Get the page mode.\n",
      " |      See :meth:`setPageMode()<PdfFileWriter.setPageMode>`\n",
      " |      for a description of valid modes.\n",
      " |      \n",
      " |      :return: Page mode currently being used.\n",
      " |      :rtype: ``str``, ``None`` if not specified\n",
      " |  \n",
      " |  pages\n",
      " |  \n",
      " |  xmpMetadata\n",
      "\n"
     ]
    }
   ],
   "source": [
    "help(pdf_reader)"
   ]
  },
  {
   "cell_type": "code",
   "execution_count": 9,
   "metadata": {},
   "outputs": [],
   "source": [
    "p1 = pdf_reader.getPage(0)"
   ]
  },
  {
   "cell_type": "code",
   "execution_count": 10,
   "metadata": {},
   "outputs": [],
   "source": [
    "### To write the pdf file ----> we can write the data out in another class in the memory\n",
    "\n",
    "pdf_writer = pdf.PdfFileWriter()"
   ]
  },
  {
   "cell_type": "code",
   "execution_count": 11,
   "metadata": {},
   "outputs": [],
   "source": [
    "### addPage --> it creates the space for the pdf in the memory for adding the data\n",
    "\n",
    "pdf_writer.addPage(p1)"
   ]
  },
  {
   "cell_type": "code",
   "execution_count": 12,
   "metadata": {},
   "outputs": [
    {
     "data": {
      "text/plain": [
       "40"
      ]
     },
     "execution_count": 12,
     "metadata": {},
     "output_type": "execute_result"
    }
   ],
   "source": [
    "### to get the no of pages in the pdf\n",
    "\n",
    "pdf_reader.getNumPages()"
   ]
  },
  {
   "cell_type": "code",
   "execution_count": 13,
   "metadata": {},
   "outputs": [],
   "source": [
    "with open(\"Dummy PDF.json\",'w',encoding='utf-8') as f:   ### Creating a json file \n",
    "    f.write(\"\"\"Extracting the data from the pdf \\n\"\"\")\n",
    "    for page_num in range(pdf_reader.numPages):                ### pdf_read.numPages --> gives the pagenumber to page_num\n",
    "        #print(page_num)\n",
    "        page = pdf_reader.getPage(page_num)                    ### Getting the data from particular pagenumbers\n",
    "        try:\n",
    "            txt = page.extractText()                           ### extracting the data as text\n",
    "            #print(txt)\n",
    "        except:\n",
    "            pass\n",
    "        else:\n",
    "            f.write(\"\\t Page {0} \\n\".format(page_num+1))        ### Adding the pages into new file with pagenums\n",
    "            f.write(\" \".join(\"\\n\"))\n",
    "            f.write(txt)                                        ### writing the data which is extracted\n",
    "    f.close()"
   ]
  },
  {
   "cell_type": "code",
   "execution_count": 14,
   "metadata": {},
   "outputs": [],
   "source": [
    "with open(\"Dummy PDF.txt\",'w',encoding='utf-8') as f:           ### Creating a txt file \n",
    "    for page_num in range(pdf_reader.numPages):\n",
    "        #print(page_num)\n",
    "        page = pdf_reader.getPage(page_num)                    ### Getting the data from particular pagenumbers\n",
    "        try:\n",
    "            txt = page.extractText()                           ### extracting the data as text\n",
    "           # print(txt)\n",
    "        except:\n",
    "            pass\n",
    "        else:\n",
    "            f.write(\"\\t Page {0} \\n\".format(page_num+1))        ### Adding the pages into new file with pagenums\n",
    "            f.write(\" \".join(\"\\n\"))\n",
    "            f.write(txt)                                        ### writing the data which is extracted\n",
    "    f.close()"
   ]
  },
  {
   "cell_type": "code",
   "execution_count": 29,
   "metadata": {},
   "outputs": [
    {
     "ename": "AttributeError",
     "evalue": "module 'PyPDF4' has no attribute 'pdfFileReader'",
     "output_type": "error",
     "traceback": [
      "\u001b[1;31m---------------------------------------------------------------------------\u001b[0m",
      "\u001b[1;31mAttributeError\u001b[0m                            Traceback (most recent call last)",
      "\u001b[1;32m<ipython-input-29-57c9fdd8def1>\u001b[0m in \u001b[0;36m<module>\u001b[1;34m\u001b[0m\n\u001b[0;32m      4\u001b[0m \u001b[1;33m\u001b[0m\u001b[0m\n\u001b[0;32m      5\u001b[0m \u001b[0mpdfFileObj\u001b[0m \u001b[1;33m=\u001b[0m \u001b[0mopen\u001b[0m\u001b[1;33m(\u001b[0m\u001b[1;34m'PythonNotes.pdf'\u001b[0m\u001b[1;33m,\u001b[0m\u001b[1;34m'rb'\u001b[0m\u001b[1;33m)\u001b[0m\u001b[1;33m\u001b[0m\u001b[1;33m\u001b[0m\u001b[0m\n\u001b[1;32m----> 6\u001b[1;33m \u001b[0mpdfReader\u001b[0m \u001b[1;33m=\u001b[0m \u001b[0mPyPDF4\u001b[0m\u001b[1;33m.\u001b[0m\u001b[0mpdfFileReader\u001b[0m\u001b[1;33m(\u001b[0m\u001b[0mpdfFileObj\u001b[0m\u001b[1;33m)\u001b[0m\u001b[1;33m\u001b[0m\u001b[1;33m\u001b[0m\u001b[0m\n\u001b[0m\u001b[0;32m      7\u001b[0m \u001b[0mpageObj\u001b[0m \u001b[1;33m=\u001b[0m \u001b[0mpdfReader\u001b[0m\u001b[1;33m.\u001b[0m\u001b[0mgetPage\u001b[0m\u001b[1;33m(\u001b[0m\u001b[1;36m1\u001b[0m\u001b[1;33m)\u001b[0m\u001b[1;33m\u001b[0m\u001b[1;33m\u001b[0m\u001b[0m\n\u001b[0;32m      8\u001b[0m \u001b[0mpages_text\u001b[0m \u001b[1;33m=\u001b[0m \u001b[0mpageObj\u001b[0m\u001b[1;33m.\u001b[0m\u001b[0mextractText\u001b[0m\u001b[1;33m(\u001b[0m\u001b[1;33m)\u001b[0m\u001b[1;33m\u001b[0m\u001b[1;33m\u001b[0m\u001b[0m\n",
      "\u001b[1;31mAttributeError\u001b[0m: module 'PyPDF4' has no attribute 'pdfFileReader'"
     ]
    }
   ],
   "source": [
    "import PyPDF4\n",
    "import re\n",
    "import io\n",
    "\n",
    "pdfFileObj = open('PythonNotes.pdf','rb')\n",
    "pdfReader = PyPDF4.pdfFileReader(pdfFileObj)\n",
    "pageObj = pdfReader.getPage(1)\n",
    "pages_text = pageObj.extractText()\n",
    "\n",
    "for line in pages_text.split('\\n'):\n",
    "    print(line)"
   ]
  },
  {
   "cell_type": "code",
   "execution_count": 20,
   "metadata": {},
   "outputs": [],
   "source": [
    "#char = input(\"enter the word\")\n",
    "#l = []\n",
    "#s = txt.split()\n",
    "#count = 0\n",
    "#for char in txt:\n",
    "#    if char == txt:\n",
    "#        count = count + 1\n",
    "#        l = s\n",
    "#print(\"Word is {} and count is {}\",format(char,count))"
   ]
  },
  {
   "cell_type": "markdown",
   "metadata": {},
   "source": [
    "***Extracting text from images***"
   ]
  },
  {
   "cell_type": "code",
   "execution_count": 1,
   "metadata": {
    "collapsed": true
   },
   "outputs": [
    {
     "name": "stdout",
     "output_type": "stream",
     "text": [
      "Collecting pytesseract\n",
      "  Downloading https://files.pythonhosted.org/packages/a3/c9/d6e8903482bd6fb994c32722831d15842dd8b614f94ad9ca735807252671/pytesseract-0.3.8.tar.gz\n",
      "Requirement already satisfied: Pillow in c:\\users\\dileep\\anaconda3\\lib\\site-packages (from pytesseract) (6.1.0)\n",
      "Building wheels for collected packages: pytesseract\n",
      "  Building wheel for pytesseract (setup.py): started\n",
      "  Building wheel for pytesseract (setup.py): finished with status 'done'\n",
      "  Stored in directory: C:\\Users\\DILEEP\\AppData\\Local\\pip\\Cache\\wheels\\a2\\66\\45\\88bf1b2d428817a006944b9730b27d6861b776e05a9e262bd4\n",
      "Successfully built pytesseract\n",
      "Installing collected packages: pytesseract\n",
      "Successfully installed pytesseract-0.3.8\n",
      "Note: you may need to restart the kernel to use updated packages.\n"
     ]
    }
   ],
   "source": [
    "pip install pytesseract"
   ]
  },
  {
   "cell_type": "code",
   "execution_count": 23,
   "metadata": {},
   "outputs": [],
   "source": [
    "### import pytesseract\n",
    "\n",
    "import pytesseract "
   ]
  },
  {
   "cell_type": "code",
   "execution_count": 26,
   "metadata": {},
   "outputs": [],
   "source": [
    "### PIL (Python Image Library) ---> which is used for working on images like manipulating,saving images etc\n",
    "from PIL import Image"
   ]
  },
  {
   "cell_type": "code",
   "execution_count": 8,
   "metadata": {
    "collapsed": true
   },
   "outputs": [
    {
     "name": "stdout",
     "output_type": "stream",
     "text": [
      "Collecting opencv-python\n",
      "  Downloading https://files.pythonhosted.org/packages/0e/08/dab39e396a38affb13d6daf421066203695d91c2c3197f753fa84bbac8bd/opencv_python-4.5.3.56-cp37-cp37m-win_amd64.whl (34.9MB)\n",
      "Requirement already satisfied: numpy>=1.14.5 in c:\\users\\dileep\\anaconda3\\lib\\site-packages (from opencv-python) (1.16.4)\n",
      "Installing collected packages: opencv-python\n",
      "Successfully installed opencv-python-4.5.3.56\n",
      "Note: you may need to restart the kernel to use updated packages.\n"
     ]
    }
   ],
   "source": [
    "pip install opencv-python"
   ]
  },
  {
   "cell_type": "code",
   "execution_count": 27,
   "metadata": {},
   "outputs": [],
   "source": [
    "### command used for reading the path of tesseract\n",
    "\n",
    "pytesseract.pytesseract.tesseract_cmd = r'C:\\Program Files\\Tesseract-OCR\\tesseract.exe'"
   ]
  },
  {
   "cell_type": "code",
   "execution_count": 28,
   "metadata": {},
   "outputs": [],
   "source": [
    "### Loading the image\n",
    "\n",
    "img = Image.open('pic.jpg')"
   ]
  },
  {
   "cell_type": "code",
   "execution_count": 29,
   "metadata": {},
   "outputs": [
    {
     "data": {
      "image/png": "[encoded data removed]",
      "text/plain": [
       "<PIL.PngImagePlugin.PngImageFile image mode=RGB size=672x434 at 0x1809560CFD0>"
      ]
     },
     "execution_count": 29,
     "metadata": {},
     "output_type": "execute_result"
    }
   ],
   "source": [
    "## image printed\n",
    "img"
   ]
  },
  {
   "cell_type": "code",
   "execution_count": 30,
   "metadata": {},
   "outputs": [],
   "source": [
    "### Extracting the text from image using image_to_string\n",
    "\n",
    "text = pytesseract.image_to_string(img)"
   ]
  },
  {
   "cell_type": "code",
   "execution_count": 32,
   "metadata": {},
   "outputs": [
    {
     "name": "stdout",
     "output_type": "stream",
     "text": [
      "ABCDEF GH\n",
      "abcdefghijk|n\n",
      "1234567890!\n",
      "\f",
      "\n"
     ]
    }
   ],
   "source": [
    "### extracted data from image \n",
    "print(text)"
   ]
  },
  {
   "cell_type": "code",
   "execution_count": 36,
   "metadata": {},
   "outputs": [
    {
     "name": "stdout",
     "output_type": "stream",
     "text": [
      "Collecting PyMuPDF\n",
      "  Downloading https://files.pythonhosted.org/packages/64/7a/e77455fff0150e1a21212a10cf4402fefa0941ae895079dcab1afdec3203/PyMuPDF-1.18.15-cp37-cp37m-win_amd64.whl (5.4MB)\n",
      "Installing collected packages: PyMuPDF\n",
      "Successfully installed PyMuPDF-1.18.15\n",
      "Note: you may need to restart the kernel to use updated packages.\n"
     ]
    }
   ],
   "source": [
    "### PyMuPDF ---> tool used for pdf files for extracting pictures and also for text \n",
    "pip install PyMuPDF"
   ]
  },
  {
   "cell_type": "code",
   "execution_count": 5,
   "metadata": {},
   "outputs": [],
   "source": [
    "## it is the library which we use for extracting\n",
    "import fitz"
   ]
  },
  {
   "cell_type": "code",
   "execution_count": 18,
   "metadata": {},
   "outputs": [],
   "source": [
    "## To open the file\n",
    "file = fitz.open('AnimalNames.pdf')"
   ]
  },
  {
   "cell_type": "code",
   "execution_count": 19,
   "metadata": {},
   "outputs": [],
   "source": [
    "### Extracting the text from the pdf file \n",
    "\n",
    "for pagenumber, page in enumerate(file.pages(),start =1):\n",
    "    text = page.getText()\n",
    "    \n",
    "    txt = open('AnimalNames.txt','a',encoding = 'utf-8')\n",
    "    txt.writelines(text)\n",
    "    txt.close()"
   ]
  },
  {
   "cell_type": "code",
   "execution_count": 20,
   "metadata": {},
   "outputs": [
    {
     "data": {
      "text/plain": [
       "<_io.TextIOWrapper name='AnimalNames.txt' mode='a' encoding='utf-8'>"
      ]
     },
     "execution_count": 20,
     "metadata": {},
     "output_type": "execute_result"
    }
   ],
   "source": [
    "txt"
   ]
  },
  {
   "cell_type": "code",
   "execution_count": 23,
   "metadata": {},
   "outputs": [],
   "source": [
    "### Extracting the images from pdf file\n",
    "\n",
    "for pagenumber,page in enumerate(file.pages(),start =1):\n",
    "    for imgnumber, img in enumerate(page.getImageList(),start=1):\n",
    "        xref = img[0]\n",
    "        \n",
    "        pix = fitz.Pixmap(file,xref)\n",
    "        \n",
    "        if pix.n > 4:\n",
    "            pix = fitz.Pixmap(fitz.csRGB,pix)\n",
    "        pix.writePNG('images.png')"
   ]
  },
  {
   "cell_type": "code",
   "execution_count": 64,
   "metadata": {
    "collapsed": true
   },
   "outputs": [
    {
     "name": "stdout",
     "output_type": "stream",
     "text": [
      "['Animal', 'names', 'There', 'is', 'a', 'difference', 'between', 'wild', 'and', 'domestic', 'animals.', 'Here', 'the', 'difference', 'between', 'them', 'is', 'clearly', 'mentioned', 'and', 'also', 'their', 'pics', 'so', 'that', 'children', 'can', 'learn.', 'Also,', 'animal', 'names', 'are', 'completely', 'described', 'with', 'their', 'images', 'that', 'are', 'easy', 'to', 'memorize', 'for', 'children.', 'Infographics', 'Wild', 'Animals', 'Names', 'Wild', 'Animals', 'Names', '1', 'Antelope', '2', 'Walrus', '3', 'Bat', '4', 'Zebra', '5', 'Bear', '6', 'Leopard', '7', 'Chipmunk', '8', 'Elk', '9', 'Deer', '10', 'Red', 'panda', '11', 'Elephant', '12', 'Panda', '13', 'Giraffe', '14', 'Bald', 'eagle', '15', 'Gorilla', '16', 'Otter', '17', 'Hippopotamus', '18', 'Mole', '19', 'Lizard', '20', 'Coyote', '21', 'Monkey', '22', 'Chimpanzee', '23', 'Otter', '24', 'Koala', '25', 'Owl', '26', 'Arctic', 'wolf', '27', 'Porcupine', '28', 'Possum', '29', 'Raccoon', '30', 'Hedgehog', '31', 'Rat', '32', 'Wombat', '33', 'Squirrel', '34', 'Hare', '35', 'Wolf', '36', 'Badger', '37', 'Wolf', '38', 'Camel', '39', 'Woodpecker', '40', 'Lion', 'Domestic', 'Animals', 'Names', 'Domestic', 'Animal', 'names', '1', 'Bee', '2', 'Goat', '3', 'Cow', '4', 'Horse', '5', 'Cat', '6', 'Pig', '7', 'Chicken', '8', 'Rabbit', '9', 'Donkey', '10', 'Ship', '11', 'Duck', '12', 'Parrot', '13', 'Dog', '14', 'Dove', '15', 'Deer', '16', 'Turkey']\n"
     ]
    }
   ],
   "source": [
    "### splitting the data in the text file\n",
    "\n",
    "f=open(\"AnimalNames.txt\",'r')\n",
    "\n",
    "content = f.read() \n",
    "content_list = content.split()     ## to split the words in the list format \n",
    "                                   ## To split the linewise we use splitlines\n",
    "\n",
    "print(content_list)"
   ]
  },
  {
   "cell_type": "markdown",
   "metadata": {},
   "source": [
    "***Get the required word (how many times present) in a text file***"
   ]
  },
  {
   "cell_type": "code",
   "execution_count": 63,
   "metadata": {},
   "outputs": [
    {
     "name": "stdout",
     "output_type": "stream",
     "text": [
      "enter the word : Python\n",
      "count is :  0\n"
     ]
    }
   ],
   "source": [
    "char = input(\"enter the word : \")\n",
    "count = 0\n",
    "\n",
    "for i in content_list:\n",
    "   \n",
    "    if i == char :\n",
    "        count = count + 1\n",
    "print(\"count is : \",count)"
   ]
  },
  {
   "cell_type": "markdown",
   "metadata": {},
   "source": [
    "***Get no of times present for every word***"
   ]
  },
  {
   "cell_type": "code",
   "execution_count": 72,
   "metadata": {
    "collapsed": true
   },
   "outputs": [
    {
     "name": "stdout",
     "output_type": "stream",
     "text": [
      "{'Animal': 2, 'names': 3, 'There': 1, 'is': 2, 'a': 1, 'difference': 2, 'between': 2, 'wild': 1, 'and': 2, 'domestic': 1, 'animals.': 1, 'Here': 1, 'the': 1, 'them': 1, 'clearly': 1, 'mentioned': 1, 'also': 1, 'their': 2, 'pics': 1, 'so': 1, 'that': 2, 'children': 1, 'can': 1, 'learn.': 1, 'Also,': 1, 'animal': 1, 'are': 2, 'completely': 1, 'described': 1, 'with': 1, 'images': 1, 'easy': 1, 'to': 1, 'memorize': 1, 'for': 1, 'children.': 1, 'Infographics': 1, 'Wild': 2, 'Animals': 3, 'Names': 3, '1': 2, 'Antelope': 1, '2': 2, 'Walrus': 1, '3': 2, 'Bat': 1, '4': 2, 'Zebra': 1, '5': 2, 'Bear': 1, '6': 2, 'Leopard': 1, '7': 2, 'Chipmunk': 1, '8': 2, 'Elk': 1, '9': 2, 'Deer': 2, '10': 2, 'Red': 1, 'panda': 1, '11': 2, 'Elephant': 1, '12': 2, 'Panda': 1, '13': 2, 'Giraffe': 1, '14': 2, 'Bald': 1, 'eagle': 1, '15': 2, 'Gorilla': 1, '16': 2, 'Otter': 2, '17': 1, 'Hippopotamus': 1, '18': 1, 'Mole': 1, '19': 1, 'Lizard': 1, '20': 1, 'Coyote': 1, '21': 1, 'Monkey': 1, '22': 1, 'Chimpanzee': 1, '23': 1, '24': 1, 'Koala': 1, '25': 1, 'Owl': 1, '26': 1, 'Arctic': 1, 'wolf': 1, '27': 1, 'Porcupine': 1, '28': 1, 'Possum': 1, '29': 1, 'Raccoon': 1, '30': 1, 'Hedgehog': 1, '31': 1, 'Rat': 1, '32': 1, 'Wombat': 1, '33': 1, 'Squirrel': 1, '34': 1, 'Hare': 1, '35': 1, 'Wolf': 2, '36': 1, 'Badger': 1, '37': 1, '38': 1, 'Camel': 1, '39': 1, 'Woodpecker': 1, '40': 1, 'Lion': 1, 'Domestic': 2, 'Bee': 1, 'Goat': 1, 'Cow': 1, 'Horse': 1, 'Cat': 1, 'Pig': 1, 'Chicken': 1, 'Rabbit': 1, 'Donkey': 1, 'Ship': 1, 'Duck': 1, 'Parrot': 1, 'Dog': 1, 'Dove': 1, 'Turkey': 1}\n"
     ]
    }
   ],
   "source": [
    "c = {}\n",
    "\n",
    "for i in content_list:\n",
    "    c[i] = content_list.count(i)\n",
    "print(c)"
   ]
  },
  {
   "cell_type": "code",
   "execution_count": null,
   "metadata": {},
   "outputs": [],
   "source": []
  }
 ],
 "metadata": {
  "kernelspec": {
   "display_name": "Python 3",
   "language": "python",
   "name": "python3"
  },
  "language_info": {
   "codemirror_mode": {
    "name": "ipython",
    "version": 3
   },
   "file_extension": ".py",
   "mimetype": "text/x-python",
   "name": "python",
   "nbconvert_exporter": "python",
   "pygments_lexer": "ipython3",
   "version": "3.7.3"
  }
 },
 "nbformat": 4,
 "nbformat_minor": 2
}
